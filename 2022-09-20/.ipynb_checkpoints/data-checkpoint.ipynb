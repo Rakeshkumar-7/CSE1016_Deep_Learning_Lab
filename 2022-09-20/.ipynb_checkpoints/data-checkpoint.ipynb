{
 "cells": [
  {
   "cell_type": "code",
   "execution_count": 1,
   "id": "9bbfee3f",
   "metadata": {},
   "outputs": [],
   "source": [
    "# import the necessary packages\n",
    "import os\n",
    "# define the base path to the *original* input dataset and then use\n",
    "# the base path to derive the image and annotations directories\n",
    "ORIG_BASE_PATH = \"raccoon_dataset-master\"\n",
    "ORIG_IMAGES = os.path.sep.join([ORIG_BASE_PATH, \"images\"])\n",
    "ORIG_ANNOTS = os.path.sep.join([ORIG_BASE_PATH, \"annotations\"])"
   ]
  },
  {
   "cell_type": "code",
   "execution_count": 2,
   "id": "4fc993e9",
   "metadata": {},
   "outputs": [],
   "source": [
    "# define the base path to the *new* dataset after running our dataset\n",
    "# builder scripts and then use the base path to derive the paths to\n",
    "# our output class label directories\n",
    "BASE_PATH = \"dataset\"\n",
    "POSITVE_PATH = os.path.sep.join([BASE_PATH, \"raccoon\"])\n",
    "NEGATIVE_PATH = os.path.sep.join([BASE_PATH, \"no_raccoon\"])"
   ]
  },
  {
   "cell_type": "code",
   "execution_count": null,
   "id": "776b5953",
   "metadata": {},
   "outputs": [],
   "source": []
  }
 ],
 "metadata": {
  "kernelspec": {
   "display_name": "Python 3 (ipykernel)",
   "language": "python",
   "name": "python3"
  },
  "language_info": {
   "codemirror_mode": {
    "name": "ipython",
    "version": 3
   },
   "file_extension": ".py",
   "mimetype": "text/x-python",
   "name": "python",
   "nbconvert_exporter": "python",
   "pygments_lexer": "ipython3",
   "version": "3.9.12"
  }
 },
 "nbformat": 4,
 "nbformat_minor": 5
}
